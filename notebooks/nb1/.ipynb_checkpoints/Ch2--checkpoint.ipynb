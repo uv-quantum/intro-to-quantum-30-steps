{
 "cells": [
  {
   "cell_type": "markdown",
   "id": "28472b3a-dcde-4165-a3f9-817379a899c1",
   "metadata": {},
   "source": [
    "# Introduction to quantum computing"
   ]
  },
  {
   "cell_type": "markdown",
   "id": "735f9965-c00d-4167-8d52-56efdc77316d",
   "metadata": {},
   "source": [
    "Latex macros\n",
    "\n",
    "$$\n",
    "\\newcommand{\\Zero}{\\begin{pmatrix}1\\\\0\\end{pmatrix}}\n",
    "\\newcommand{\\One}{\\begin{pmatrix}0\\\\1\\end{pmatrix}}\n",
    "\\newcommand{\\Plus}{\\frac{1}{\\sqrt{2}}\\begin{pmatrix}1\\\\1\\end{pmatrix}}\n",
    "\\newcommand{\\Minus}{\\frac{1}{\\sqrt{2}}\\begin{pmatrix}1\\\\-1\\end{pmatrix}}\n",
    "\\newcommand{\\K}[1]{\\ket{#1}}\n",
    "\\newcommand{\\Op}[4]{\\begin{pmatrix}#1 & #2 \\\\ #3 & #4 \\end{pmatrix}}\n",
    "\\newcommand{\\V}[2]{\\begin{pmatrix}#1 \\\\ #2\\end{pmatrix}}\n",
    "\\newcommand{\\InvSq}{\\frac{1}{\\sqrt{2}}}\n",
    "\\newcommand{\\_}{\\hspace{0.1cm}}\n",
    "%%\\newcommand{\\_}{\\,}\n",
    "\\newcommand{\\Up}{\\K{\\uparrow}}\n",
    "\\newcommand{\\Down}{\\K{\\downarrow}}\n",
    "\\newcommand{\\Left}{\\K{\\leftarrow}}\n",
    "\\newcommand{\\Right}{\\K{\\rightarrow}}\n",
    "\\newcommand{\\Imp}{\\,\\rightarrow}\n",
    "\\newcommand{\\ImpL}{\\,\\Longrightarrow}\n",
    "\\newcommand{\\S}[1]{\\sigma_{#1}}\n",
    "\\newcommand{\\Kr}{\\delta_{ij}}\n",
    "$$\n",
    "\n",
    "```latex\n",
    "\\begin{flalign}\n",
    "\\K{0} = \\Zero \\\\\n",
    "\\K{1} = \\One \\\\\n",
    "\\K{+} = \\Plus \\\\\n",
    "\\K{-} = \\Minus \\\\\n",
    "operator = \\Op{0}{1}{1}{0} \\\\\n",
    "inverse square root = \\InvSq \\\\\n",
    "blank = \\_ \\\\\n",
    "V = \\V{2}{3} \\\\\n",
    "left = \\Left \\\\\n",
    "right = \\Right \\\\\n",
    "up = \\Up \\\\\n",
    "down = \\Down \\\\\n",
    "sigma = \\S{x} \\\\\n",
    "Kronecker's delta = \\Kr \\\\\n",
    "imply = a \\ImpL b&&\n",
    "\\end{flalign}\n",
    "```\n",
    "\n",
    "$$\n",
    "\\begin{flalign}\n",
    "\\K{0} = \\Zero \\\\\n",
    "\\K{1} = \\One \\\\\n",
    "\\K{+} = \\Plus \\\\\n",
    "\\K{-} = \\Minus \\\\\n",
    "operator = \\Op{0}{1}{1}{0} \\\\\n",
    "inverse\\_square\\_root = \\InvSq \\\\\n",
    "blank = \\_ \\\\\n",
    "V = \\V{2}{3} \\\\\n",
    "left = \\Left \\\\\n",
    "right = \\Right \\\\\n",
    "up = \\Up \\\\\n",
    "down = \\Down \\\\\n",
    "sigma = \\S{x} \\\\\n",
    "Kronecker's\\_delta = \\Kr \\\\\n",
    "imply = a \\ImpL b&&\n",
    "\\end{flalign}\n",
    "$$"
   ]
  },
  {
   "cell_type": "markdown",
   "id": "82491425-53d5-4e7e-bd99-03808f961c86",
   "metadata": {},
   "source": [
    "# Chapter 2"
   ]
  },
  {
   "cell_type": "markdown",
   "id": "209fc588-4f34-41ce-9a6e-91892003e815",
   "metadata": {},
   "source": [
    "## Qubit"
   ]
  },
  {
   "cell_type": "markdown",
   "id": "b6b3ee14-4cad-403c-9a12-5000bb125ae4",
   "metadata": {},
   "source": [
    "qubit = basis vector = basis state, either 1 or 0 + superposition of 1 and 0 while in quantum state (e.g. while a coin is spinning) but when measured (e.g. while the coin stops spinning) always only zero or one."
   ]
  },
  {
   "cell_type": "markdown",
   "id": "fbca1889-b4c8-47c2-8f15-80ed5315e948",
   "metadata": {},
   "source": [
    "## Superposition\n",
    "\n",
    "Superposition\n",
    "\n",
    "> Superposition allows us to perform a calculation on multiple basis states at the same time, which is not possible in classical computing\n",
    "\n",
    "With lights (photons):\n",
    "Final polarization = some horizontal polarization + some vertical polarization\n",
    "\n",
    "$$\\vec{V}=\\alpha\\vec{V}_x + \\beta\\vec{V}_y$$ \n",
    "Or\n",
    "$$\\ket{\\vec{V}}=\\ket{\\alpha\\vec{V}_x} + \\ket{\\beta\\vec{V}_y}$$ \n",
    "\n",
    "[Dirac notation](https://en.wikipedia.org/wiki/Bra%E2%80%93ket_notation)"
   ]
  },
  {
   "cell_type": "markdown",
   "id": "b11852f9-97ba-4f5f-b5b0-c51548adbb2f",
   "metadata": {},
   "source": [
    "## Reversible computing\n",
    "\n",
    "All operations need to be reversible.\n",
    "\n",
    "(https://en.wikipedia.org/wiki/Landauer%27s_principle)"
   ]
  },
  {
   "cell_type": "markdown",
   "id": "e46fe14a-51f2-4966-a974-3e942e4496cc",
   "metadata": {},
   "source": [
    "## Robustness\n",
    "\n",
    "Termal noise\n",
    "\n",
    "| Temperature ($\\degree{K}$) | Energy (meV)  |\n",
    "| ---------------------------|---------------|\n",
    "| 300 (Room)                 | 25            |\n",
    "| 4.2 (Liquid-He)            | 0.23          |\n",
    "| 0.1                        | 0.0083        | \n",
    "\n",
    "1 eV = enery an electron gains when travelling across a 1 V potential difference.\n",
    "\n",
    "Qubits are usually implemented with small state energy separation, e.g. spin qubit energies are 0.2 meV apart."
   ]
  },
  {
   "cell_type": "markdown",
   "id": "ef96f4b4-96d5-4f78-95b2-4ee4fbc4242b",
   "metadata": {},
   "source": [
    "## No cloning theorem\n",
    "\n",
    "Imposible to copy/clone a quantum state."
   ]
  },
  {
   "cell_type": "markdown",
   "id": "1e2b5ab6-aa35-43f8-b327-c185a25c0923",
   "metadata": {},
   "source": [
    "# Chapter 4"
   ]
  },
  {
   "cell_type": "markdown",
   "id": "62bd70f7-446f-4833-ae00-d64245ea0f8a",
   "metadata": {},
   "source": [
    "## Superposition\n",
    "\n",
    "$$\\ket{\\Psi}=a_{0}\\ket{\\vec{V_{0}}} + a_{1}\\ket{\\vec{V_{1}}} + \\dots + a_{n-1}\\ket{\\vec{V_{n-1}}}$$\n",
    "\n",
    "$$a_{i} \\in \\mathbb{C}$$\n",
    "\n",
    "$|a_{i}^2|$ is the probability of the state $\\Psi$ collapsing to the basis state $\\vec{V_{i}}$ after performing a measurement.\n",
    "\n",
    "$\\bra{\\vec{v}}$ = $\\ket{\\vec{v}^{*^{T}}}$\n",
    "\n",
    "The bra-ket operator acts as a dot product for vectors.\n",
    "\n",
    "$$\\braket{\\Psi^{*}|\\Psi}=1$$"
   ]
  },
  {
   "cell_type": "markdown",
   "id": "f65edc8c-1d12-46bf-a689-7b566752a1da",
   "metadata": {},
   "source": [
    "# Chapter 5\n",
    "## Basis sets\n",
    "\n",
    "\n",
    "Standard (Spin up-down):\n",
    "\n",
    "$\\ket{0} = \\begin{pmatrix} 1 \\\\ 0 \\end{pmatrix}$\n",
    "\n",
    "$\\ket{1} = \\begin{pmatrix} 0 \\\\ 1 \\end{pmatrix}$\n",
    "\n",
    "Rotated $45^{\\circ}$ (Spin left-right) \n",
    "\n",
    "$\\ket{+} = \\frac{1}{\\sqrt{2}}(\\ket{0} + \\ket{1}) = \\frac{1}{\\sqrt{2}}\\begin{pmatrix} 1 \\\\ 0 \\end{pmatrix}$\n",
    "\n",
    "$\\ket{-} = \\frac{1}{\\sqrt{2}}(\\ket{0} - \\ket{1}) = \\frac{1}{\\sqrt{2}}\\begin{pmatrix} 0 \\\\ 1 \\end{pmatrix}$\n",
    "\n",
    "Change of basis:\n",
    "\n",
    "E.g.\n",
    "\n",
    "$\\ket{V_1} = \\ket{+} - \\ket{-} = \n",
    " \\frac{1}{\\sqrt{2}}(\\ket{0} + \n",
    " \\ket{1}) - \\frac{1}{\\sqrt{2}}(\\ket{0} - \\ket{1}) = \\frac{1}{\\sqrt{2}}\\begin{pmatrix}1\\\\1\\end{pmatrix}$\n",
    "\n",
    "$\\ket{0} = \\frac{1}{\\sqrt{2}}(\\ket{+} + \\ket{-})$\n",
    "\n",
    "$\\ket{1} = \\frac{1}{\\sqrt{2}}(\\ket{+} - \\ket{-})$\n",
    "\n",
    "In the case of $V_1$ there is a 50% probability to measure $\\ket{0}$ and 50% probability to measure $\\ket{1}$.\n",
    "It is not possiblt to measure at the same time the up-downs and left-right spin $\\rightarrow$ **_Heisenberg Uncertainty Principle_**.\n",
    "\n",
    "\n",
    "**Dual Correspondence**: each $\\ket{}$ matches one $\\bra{}$, bra $\\leftrightarrow$ ket transformation: conjugate transpose\n",
    "\n",
    "**Dot product**: $\\braket{a | b} = \\braket{b | a}^{*}  \\in \\mathbb{C}$\n"
   ]
  },
  {
   "cell_type": "markdown",
   "id": "a89920e0-3d2b-4a43-a131-a4920c76012d",
   "metadata": {},
   "source": [
    "# Chapter 6\n",
    "\n",
    "Quantum mechanical state = vector = linear combination of the basis vector in a given basis.\n",
    "\n",
    "Observable: something we can measure. E.g. position, momentum...\n",
    "\n",
    "Measuring a state $\\rightarrow$ collapse to one of the basis states. \n",
    "\n",
    "We can measure a state only along a specific basis state. Possible measurement results form the basis state.\n",
    "\n",
    "Measuring means that we need to be able to understand the (basis) state classicaly.\n",
    "\n",
    "Measurement are often related to energy level e.g. measuring spin along the $\\hat{x}$ axis, lower energy corresponds to $\\ket{\\leftarrow}$, higher energy to $\\ket{\\rightarrow}$.\n",
    "\n",
    "*A basis formed by the basis states corresponding to an observable is a convenient choice in the formulation of the quantum computing problems*.\n",
    "\n",
    "Evolution of a quantum tate: **operator**, it transforms a quantum state to a new quantum state. \n",
    "\n",
    "Operators are matrices.\n",
    "\n",
    "Applying an operator to a unit vector simply rotates the vector.\n",
    "\n",
    "## Eigenvalues and eigenvectors\n",
    "\n",
    "Quantum mechanical state = vector = linear combination of the basis vector in a given basis.\n",
    "\n",
    "Observable: something we can measure. E.g. position, momentum...\n",
    "\n",
    "Measuring a state $\\rightarrow$ collapse to one of the basis states. \n",
    "\n",
    "We can measure a state only along a specific basis state. Possible measurement results form the basis state.\n",
    "\n",
    "Measuring means that we need to be able to understand the (basis) state classicaly.\n",
    "\n",
    "Measurement are often related to energy level e.g. measuring spin along the $\\hat{x}$ axis, lower energy corresponds to $\\ket{\\leftarrow}$, higher energy to $\\ket{\\rightarrow}$.\n",
    "\n",
    "*A basis formed by the basis states corresponding to an observable is a convenient choice in the formulation of the quantum computing problems*.\n",
    "\n",
    "Evolution of a quantum tate: **operator**, it transforms a quantum state to a new quantum state. \n",
    "\n",
    "Operators are matrices.\n",
    "\n",
    "if $\\K{v}$ is an eigenvector of matrix **A** then $\\alpha\\K{v}$ is also an eigenvector of **A**. \n",
    "\n",
    "## Eigenvalues and eigenvectors\n",
    "\n",
    "Example\n",
    "\n",
    "$\\newcommand{\\OP}{\\Op{0}{1}{1}{0}}$\n",
    "$\\sigma_{x} = \\OP$ \n",
    "\n",
    "$\\K{+} = \\Plus$\n",
    "\n",
    "$\\K{-} = \\Minus$\n",
    "\n",
    "$\\OP \\K{+} = \\InvSq \\OP \\V{1}{1} = \\K{+}$\n",
    "\n",
    "$\\OP \\K{-} = \\InvSq \\OP \\V{1}{-1} = -\\_\\K{-}$\n",
    "\n",
    "Eigenvalues = 1, -1\n",
    "Eigenvectors = $\\K{+}$, $\\K{-}$\n",
    "\n",
    "If $\\V{e}{f}$ is an eigenvector then \n",
    "\n",
    "$$\n",
    "e^2 + f^2 = 1\n",
    "\\label{equnity}\n",
    "\\tag{1}\n",
    "$$\n",
    "\n",
    "Because the probability of collapsing into each state (basis vector) needs to be one.\n",
    "\n",
    "Because *e* and *f* are complex numbers, all the infinite numbers on the unit circle in the complex plane are solution of eq. $\\ref{equnity}$\n",
    "\n",
    "Every solution is just different by a *phase factor*.\n",
    "\n"
   ]
  },
  {
   "cell_type": "markdown",
   "id": "75cc8a6b-d31d-413b-a4cc-83be039b1917",
   "metadata": {},
   "source": [
    "## Eigenvalue and Eigenvector calculation\n",
    "\n",
    "$$\n",
    "\\Op{0}{-i}{i}{0} \\V{a}{b} = \\alpha\\V{a}{b} \n",
    "$$\n",
    "\n",
    "$\n",
    "\\begin{cases}\n",
    "-bi = \\alpha a\\\\\n",
    "ai = \\alpha b\n",
    "\\end{cases}\n",
    "\\ImpL\n",
    "\\begin{cases}\n",
    "a = \\frac{-bi}{\\alpha}\\\\\n",
    "-\\frac{bi}{\\alpha}i = \\alpha b\n",
    "\\end{cases}\n",
    "\\ImpL\n",
    "\\begin{cases}\n",
    "\\dots \\\\\n",
    "b = \\alpha^2 b\n",
    "\\end{cases}\n",
    "\\ImpL\n",
    "\\begin{cases}\n",
    "\\alpha \\in{\\pm 1, -i} \\\\\n",
    "a^2 + b^2 = 1\n",
    "\\end{cases}\n",
    "$\n",
    "\n",
    "$\n",
    "\\begin{cases}\n",
    "\\alpha = -i \\\\\n",
    "a = \\InvSq \\\\\n",
    "b = \\InvSq\n",
    "\\end{cases}\n",
    "\\,\n",
    "$\n",
    "$\n",
    "\\begin{cases}\n",
    "\\alpha = 1 \\\\\n",
    "a = -\\InvSq i \\\\\n",
    "b = \\InvSq\n",
    "\\end{cases}\n",
    "$\n",
    "$\n",
    "\\begin{cases}\n",
    "\\alpha = -1 \\\\\n",
    "a = \\InvSq i \\\\\n",
    "b = \\InvSq\n",
    "\\end{cases}\n",
    "$\n",
    "\n",
    "\n"
   ]
  },
  {
   "cell_type": "markdown",
   "id": "56569f51-4c0c-4f2b-ab7a-752085617873",
   "metadata": {},
   "source": [
    "# Chapter 7\n",
    "\n",
    "## Pauli Spin Matrices\n",
    "\n",
    "To perform spin measurements we need to apply a magnetic field in one of the $\\hat{x}\\_,\\_\\hat{y}\\_or\\_\\hat{z}$ directions.\n",
    "\n",
    "$$\n",
    "\\displaylines{\n",
    "\\sigma_x = \\Op{0}{1}{1}{0} \\\\\n",
    "\\sigma_y = \\Op{0}{-i}{i}{0} \\\\\n",
    "\\sigma_z = \\Op{1}{0}{0}{-1} \\\\\n",
    "\\sigma_{x}^{2} = \\sigma_{y}^{2} = \\sigma_{z}^{2} = \\Op{1}{0}{0}{1} = \\mathbb{I} \\\\\n",
    "Commutation: \\\\\n",
    "[\\S{i},\\S{j}] = \\S{i}\\S{j}-\\S{j}\\S{i} \\neq 0\\_\\_if\\_\\_i \\neq j \\\\\n",
    "Anti-commutation: \\\\\n",
    "{\\S{i},\\S{j}} = \\S{i}\\S{j}+\\S{j}\\S{i} = 2 \\Kr \\mathbb{I}\n",
    "}\n",
    "$$\n",
    "\n",
    "## Spin operator in arbitrary direction\n",
    "\n",
    "$\\S{\\vec{n}} = \\vec{n}\\cdot\\vec{\\sigma} = \\braket{n | \\vec{\\sigma}}$\n",
    "\n",
    "$\n",
    "\\begin{cases}\n",
    "\\vec{n} = n_{x}\\hat{x} + n_{x}\\hat{y} + n_{x}\\hat{z} \\\\\n",
    "n_x^2 + n_y^2 + n_z^2 = 1 \\\\\n",
    "\\vec{\\S{}} = \\begin{pmatrix}\\S{x} \\\\ \\S{y} \\\\ \\S{z}\\end{pmatrix}\n",
    "\\end{cases}\n",
    "$ \n",
    "\n",
    "$\\Up,\\_\\Down,\\_\\Left,\\_\\Right$ are relatd to the direction in real 3D space but any linear combination of them is not related anymore to the real 3D space.\n",
    "\n",
    "## Adjoint and Hermitian matrices\n",
    "\n",
    "Adjoint: \n",
    "$A^{\\dagger}=A^{*^{T}}$\n",
    "\n",
    "Self-adjoint or Hermitian: $A^{\\dagger}=A$\n"
   ]
  },
  {
   "cell_type": "markdown",
   "id": "85184efb-6b06-46b4-8da6-20948d40a81d",
   "metadata": {},
   "source": [
    "-----------------------------------------"
   ]
  },
  {
   "cell_type": "markdown",
   "id": "54f12004-5097-45e1-9ed6-91f7728c07c6",
   "metadata": {},
   "source": [
    "-----------------------------------------"
   ]
  },
  {
   "cell_type": "markdown",
   "id": "6965f366-f844-4205-a8aa-ad127024cfb2",
   "metadata": {},
   "source": [
    "# Scratchpad (LatEx)"
   ]
  },
  {
   "cell_type": "markdown",
   "id": "00aede6a-ed7e-42a0-aae6-5615430841ed",
   "metadata": {},
   "source": [
    "### System of equations\n",
    "$$\n",
    "\\begin{cases}\n",
    "      k_{i\\omega}/k_{p\\omega}=2\\pi\\times 10\\\\\n",
    "      \\left\\lvert\\frac{k_{p\\omega}s+k_{i\\omega}}{s}\\cdot\\frac{1}{Ts+1}\\right\\rvert_{S=\\mathrm{j}\\cdot2\\pi}=1\n",
    "\\end{cases}\\,.\n",
    "$$"
   ]
  },
  {
   "cell_type": "markdown",
   "id": "95a6a40c-be81-48e9-9f1d-3f7643e52902",
   "metadata": {},
   "source": [
    "$A^{\\dagger}$"
   ]
  },
  {
   "cell_type": "markdown",
   "id": "b42602eb-0b67-42b1-9ec4-f97b06eaaf6e",
   "metadata": {},
   "source": [
    "------------------------------------------------------------------------------"
   ]
  },
  {
   "cell_type": "markdown",
   "id": "8b6f8a32-6fea-4693-9520-d86cd4d36566",
   "metadata": {},
   "source": [
    "# Scratchpad (Python)\n"
   ]
  },
  {
   "cell_type": "code",
   "execution_count": 11,
   "id": "168e7669-2827-45b0-afa4-c65f707c5428",
   "metadata": {},
   "outputs": [
    {
     "data": {
      "text/plain": [
       "array([0.09889364+0.29668091j, 0.        +0.49446818j,\n",
       "       0.39557454+0.j        , 0.14834045+0.69225545j])"
      ]
     },
     "execution_count": 11,
     "metadata": {},
     "output_type": "execute_result"
    }
   ],
   "source": [
    "# Normalize\n",
    "import numpy as np\n",
    "v = np.array([1 + 3j, 5j, 4, 1.5+7j])\n",
    "v /= np.linalg.norm(v)\n",
    "v"
   ]
  },
  {
   "cell_type": "code",
   "execution_count": 12,
   "id": "735efc91-8bf5-4605-9bcf-aa473328284a",
   "metadata": {},
   "outputs": [
    {
     "data": {
      "text/plain": [
       "array([[1. -3.j],\n",
       "       [0. -5.j],\n",
       "       [4. -0.j],\n",
       "       [1.5-7.j]])"
      ]
     },
     "execution_count": 12,
     "metadata": {},
     "output_type": "execute_result"
    }
   ],
   "source": [
    "# Conjugate, transpose\n",
    "import numpy as np\n",
    "v = np.array([[1 + 3j, 5j, 4, 1.5+7j]])\n",
    "np.conjugate(np.transpose(v))"
   ]
  },
  {
   "cell_type": "code",
   "execution_count": 4,
   "id": "27237d38-e02d-4cc9-8cd3-40653e6cf99c",
   "metadata": {},
   "outputs": [
    {
     "data": {
      "image/png": "[encoded data removed]",
      "text/plain": [
       "<Figure size 600x600 with 1 Axes>"
      ]
     },
     "metadata": {},
     "output_type": "display_data"
    }
   ],
   "source": [
    "# plot complex roots\n",
    "import numpy as np\n",
    "import pylab as plt\n",
    "import itertools\n",
    "\n",
    "n = 13\n",
    "roots = np.roots( [1,] + [0,]*(n-1) + [-1,] )\n",
    "colors = itertools.cycle(['r', 'g', 'b', 'y'])\n",
    "\n",
    "plt.figure(figsize=(6,6))\n",
    "\n",
    "for root in roots:\n",
    "    plt.arrow(0,0,root.real,root.imag,ec=colors.__next__())\n",
    "\n",
    "\n",
    "plt.xlim(-1.5,1.5)\n",
    "plt.ylim(-1.5,1.5)\n",
    "plt.show()"
   ]
  },
  {
   "cell_type": "code",
   "execution_count": 2,
   "id": "24ff2b12-6e04-433e-96e7-0f05e4f43cbf",
   "metadata": {},
   "outputs": [
    {
     "data": {
      "text/plain": [
       "'r'"
      ]
     },
     "execution_count": 2,
     "metadata": {},
     "output_type": "execute_result"
    }
   ],
   "source": [
    "import itertools\n",
    "import numpy as np\n",
    "n = 13\n",
    "roots = np.roots( [1,] + [0,]*(n-1) + [-1,] )\n",
    "colors = itertools.cycle(['r', 'g', 'b', 'y'])\n",
    "s = itertools.islice(colors,len(roots))\n",
    "colors.__next__()"
   ]
  },
  {
   "cell_type": "code",
   "execution_count": 1,
   "id": "3a3a17dd-aa78-4ddd-8d5a-143f025a73d2",
   "metadata": {},
   "outputs": [
    {
     "data": {
      "image/png": "[encoded data removed]",
      "text/plain": [
       "<Figure size 640x480 with 1 Axes>"
      ]
     },
     "metadata": {},
     "output_type": "display_data"
    }
   ],
   "source": [
    "# vectors as arrows\n",
    "import numpy as np\n",
    "import matplotlib.pyplot as plt\n",
    "\n",
    "V = np.array([[1,1], [-2,2], [4,-7]])\n",
    "origin = np.array([[0, 0, 0],[0, 0, 0]]) # origin point\n",
    "\n",
    "plt.quiver(*origin, V[:,0], V[:,1], color=['r','b','g'], scale=21)\n",
    "plt.show()"
   ]
  },
  {
   "cell_type": "code",
   "execution_count": 16,
   "id": "b13db7d8-14ee-4855-b26c-ac2704b05abe",
   "metadata": {},
   "outputs": [
    {
     "name": "stdout",
     "output_type": "stream",
     "text": [
      "[[ 0.+0.j -0.-1.j]\n",
      " [ 0.+1.j  0.+0.j]]\n",
      "Eigenvalues:\n",
      " [ 1.+0.j -1.+0.j]\n",
      "Eigenvectors:\n",
      " [[-0.        -0.70710678j  0.70710678+0.j        ]\n",
      " [ 0.70710678+0.j          0.        -0.70710678j]]\n"
     ]
    }
   ],
   "source": [
    "# Eigenvectors\n",
    "import numpy as np\n",
    "sigmay=np.array([[0,-1j],[1j,0]])\n",
    "print(sigmay)\n",
    "eigenvalues, eigenvectors = np.linalg.eig(sigmay)\n",
    "print(\"Eigenvalues:\\n\", eigenvalues)\n",
    "print(\"Eigenvectors:\\n\", eigenvectors)"
   ]
  },
  {
   "cell_type": "code",
   "execution_count": 31,
   "id": "0bfaaa3d-27a2-45a5-872a-619e445e651b",
   "metadata": {},
   "outputs": [
    {
     "data": {
      "text/plain": [
       "array([-0.70710678+0.j        ,  0.        +0.70710678j])"
      ]
     },
     "execution_count": 31,
     "metadata": {},
     "output_type": "execute_result"
    }
   ],
   "source": [
    "sigmay.dot(eigenvectors[:,1])"
   ]
  },
  {
   "cell_type": "code",
   "execution_count": 19,
   "id": "5b4a473b-496f-445f-93c0-6449aa171300",
   "metadata": {},
   "outputs": [
    {
     "data": {
      "text/plain": [
       "array([[-0.        -0.70710678j,  0.70710678+0.j        ]])"
      ]
     },
     "execution_count": 19,
     "metadata": {},
     "output_type": "execute_result"
    }
   ],
   "source": [
    "eigenvectors[0:1]"
   ]
  },
  {
   "cell_type": "code",
   "execution_count": 3,
   "id": "c92a2173-5864-4a2f-bce7-6d6922bdb748",
   "metadata": {},
   "outputs": [
    {
     "data": {
      "text/plain": [
       "(1+2j)"
      ]
     },
     "execution_count": 3,
     "metadata": {},
     "output_type": "execute_result"
    }
   ],
   "source": [
    "1+ 1j * 1 + 1j"
   ]
  },
  {
   "cell_type": "code",
   "execution_count": 6,
   "id": "edf7405f-78a7-4aa7-9378-9406ccf364bb",
   "metadata": {},
   "outputs": [],
   "source": [
    "import math"
   ]
  },
  {
   "cell_type": "code",
   "execution_count": 14,
   "id": "7be8e3c6-3c46-4a8a-be93-ddc072e89818",
   "metadata": {},
   "outputs": [
    {
     "data": {
      "text/plain": [
       "(2.2371143170757382e-17+0.9999999999999998j)"
      ]
     },
     "execution_count": 14,
     "metadata": {},
     "output_type": "execute_result"
    }
   ],
   "source": [
    "(1/math.sqrt(2) + 1/math.sqrt(2)*1j) * (1/math.sqrt(2) + 1/math.sqrt(2)*1j)"
   ]
  },
  {
   "cell_type": "code",
   "execution_count": 1,
   "id": "2ba7731e-b0ba-43ae-b604-6f8215566d95",
   "metadata": {},
   "outputs": [
    {
     "name": "stdout",
     "output_type": "stream",
     "text": [
      "[[ 0.+0.j -0.-1.j]\n",
      " [ 0.+1.j  0.+0.j]]\n",
      "[[1.+0.j 0.+0.j]\n",
      " [0.+0.j 1.+0.j]]\n"
     ]
    }
   ],
   "source": [
    "import numpy as np\n",
    "sigmay=np.array([[0,-1j],[1j,0]])\n",
    "print(sigmay)\n",
    "print(np.matmul(sigmay, sigmay))"
   ]
  },
  {
   "cell_type": "code",
   "execution_count": 2,
   "id": "9e89e7e5-8932-4a0c-bff5-e9d8c4b14044",
   "metadata": {},
   "outputs": [
    {
     "name": "stdout",
     "output_type": "stream",
     "text": [
      "(2, 1)\n"
     ]
    },
    {
     "data": {
      "text/plain": [
       "array([[0.+0.j],\n",
       "       [0.+1.j]])"
      ]
     },
     "execution_count": 2,
     "metadata": {},
     "output_type": "execute_result"
    }
   ],
   "source": [
    "zerospin=np.array([[1],[0]])\n",
    "print(zerospin.shape)\n",
    "np.dot(sigmay,zerospin)"
   ]
  },
  {
   "cell_type": "code",
   "execution_count": 7,
   "id": "f38dbe64-d1f6-4c89-91d1-4087b9da2840",
   "metadata": {},
   "outputs": [
    {
     "data": {
      "text/plain": [
       "array([0.+0.j, 0.-1.j])"
      ]
     },
     "execution_count": 7,
     "metadata": {},
     "output_type": "execute_result"
    }
   ],
   "source": [
    "np.dot([1,0],sigmay)"
   ]
  },
  {
   "cell_type": "code",
   "execution_count": null,
   "id": "16054a29-d750-40f5-b6a5-62c885e51175",
   "metadata": {},
   "outputs": [],
   "source": []
  }
 ],
 "metadata": {
  "kernelspec": {
   "display_name": "Python 3 (ipykernel)",
   "language": "python",
   "name": "python3"
  },
  "language_info": {
   "codemirror_mode": {
    "name": "ipython",
    "version": 3
   },
   "file_extension": ".py",
   "mimetype": "text/x-python",
   "name": "python",
   "nbconvert_exporter": "python",
   "pygments_lexer": "ipython3",
   "version": "3.11.7"
  }
 },
 "nbformat": 4,
 "nbformat_minor": 5
}
