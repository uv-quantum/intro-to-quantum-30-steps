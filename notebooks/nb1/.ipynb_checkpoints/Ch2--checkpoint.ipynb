{
 "cells": [
  {
   "cell_type": "markdown",
   "id": "28472b3a-dcde-4165-a3f9-817379a899c1",
   "metadata": {},
   "source": [
    "# Introduction to quantum computing"
   ]
  },
  {
   "cell_type": "markdown",
   "id": "82491425-53d5-4e7e-bd99-03808f961c86",
   "metadata": {},
   "source": []
  },
  {
   "cell_type": "markdown",
   "id": "209fc588-4f34-41ce-9a6e-91892003e815",
   "metadata": {},
   "source": [
    "## Qubit"
   ]
  },
  {
   "cell_type": "markdown",
   "id": "b6b3ee14-4cad-403c-9a12-5000bb125ae4",
   "metadata": {},
   "source": [
    "qubit = basis vector = basis state, either 1 or 0 + superposition of 1 and 0 while in quantum state (e.g. while a coin is spinning) but when measured (e.g. while the coin stops spinning) always only zero or one."
   ]
  },
  {
   "cell_type": "markdown",
   "id": "fbca1889-b4c8-47c2-8f15-80ed5315e948",
   "metadata": {},
   "source": [
    "## Superposition\n",
    "\n",
    "Superposition\n",
    "\n",
    "> Superposition allows us to perform a calculation on multiple basis states at the same time, which is not possible in classical computing\n",
    "\n",
    "With lights (photons):\n",
    "Final polarization = some horizontal polarization + some vertical polarization\n",
    "\n",
    "$$\\vec{V}=\\alpha\\vec{V}_x + \\beta\\vec{V}_y$$ \n",
    "Or\n",
    "$$\\ket{\\vec{V}}=\\ket{\\alpha\\vec{V}_x} + \\ket{\\beta\\vec{V}_y}$$ \n",
    "\n",
    "[Dirac notation](https://en.wikipedia.org/wiki/Bra%E2%80%93ket_notation)"
   ]
  },
  {
   "cell_type": "markdown",
   "id": "b11852f9-97ba-4f5f-b5b0-c51548adbb2f",
   "metadata": {},
   "source": [
    "## Reversible computing\n",
    "\n",
    "All operations need to be reversible.\n",
    "\n",
    "(https://en.wikipedia.org/wiki/Landauer%27s_principle)"
   ]
  },
  {
   "cell_type": "code",
   "execution_count": null,
   "id": "719010fe-29ce-4b0f-8401-4674c13308d3",
   "metadata": {},
   "outputs": [],
   "source": [
    "All operations need to be reversible"
   ]
  }
 ],
 "metadata": {
  "kernelspec": {
   "display_name": "Python 3 (ipykernel)",
   "language": "python",
   "name": "python3"
  },
  "language_info": {
   "codemirror_mode": {
    "name": "ipython",
    "version": 3
   },
   "file_extension": ".py",
   "mimetype": "text/x-python",
   "name": "python",
   "nbconvert_exporter": "python",
   "pygments_lexer": "ipython3",
   "version": "3.11.7"
  }
 },
 "nbformat": 4,
 "nbformat_minor": 5
}
